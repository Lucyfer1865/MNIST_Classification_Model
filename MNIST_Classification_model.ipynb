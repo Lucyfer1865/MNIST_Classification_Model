{
  "cells": [
    {
      "cell_type": "markdown",
      "metadata": {
        "id": "view-in-github",
        "colab_type": "text"
      },
      "source": [
        "<a href=\"https://colab.research.google.com/github/Lucyfer1865/MNIST_Classification_Model/blob/main/MNIST_Classification_model.ipynb\" target=\"_parent\"><img src=\"https://colab.research.google.com/assets/colab-badge.svg\" alt=\"Open In Colab\"/></a>"
      ]
    },
    {
      "cell_type": "code",
      "execution_count": null,
      "metadata": {
        "id": "uEs1C--0NyGl"
      },
      "outputs": [],
      "source": [
        "from torchvision import datasets\n",
        "from torchvision.transforms import ToTensor"
      ]
    },
    {
      "cell_type": "code",
      "execution_count": null,
      "metadata": {
        "colab": {
          "base_uri": "https://localhost:8080/"
        },
        "id": "Hi_8uuWrq_Re",
        "outputId": "ba6bab4f-4438-405e-a870-92ccb65ded3b"
      },
      "outputs": [
        {
          "output_type": "stream",
          "name": "stdout",
          "text": [
            "Downloading http://yann.lecun.com/exdb/mnist/train-images-idx3-ubyte.gz\n",
            "Failed to download (trying next):\n",
            "HTTP Error 403: Forbidden\n",
            "\n",
            "Downloading https://ossci-datasets.s3.amazonaws.com/mnist/train-images-idx3-ubyte.gz\n",
            "Downloading https://ossci-datasets.s3.amazonaws.com/mnist/train-images-idx3-ubyte.gz to data/MNIST/raw/train-images-idx3-ubyte.gz\n"
          ]
        },
        {
          "output_type": "stream",
          "name": "stderr",
          "text": [
            "100%|██████████| 9912422/9912422 [00:02<00:00, 4365717.17it/s]\n"
          ]
        },
        {
          "output_type": "stream",
          "name": "stdout",
          "text": [
            "Extracting data/MNIST/raw/train-images-idx3-ubyte.gz to data/MNIST/raw\n",
            "\n",
            "Downloading http://yann.lecun.com/exdb/mnist/train-labels-idx1-ubyte.gz\n",
            "Failed to download (trying next):\n",
            "HTTP Error 403: Forbidden\n",
            "\n",
            "Downloading https://ossci-datasets.s3.amazonaws.com/mnist/train-labels-idx1-ubyte.gz\n",
            "Downloading https://ossci-datasets.s3.amazonaws.com/mnist/train-labels-idx1-ubyte.gz to data/MNIST/raw/train-labels-idx1-ubyte.gz\n"
          ]
        },
        {
          "output_type": "stream",
          "name": "stderr",
          "text": [
            "100%|██████████| 28881/28881 [00:00<00:00, 63454.19it/s]\n"
          ]
        },
        {
          "output_type": "stream",
          "name": "stdout",
          "text": [
            "Extracting data/MNIST/raw/train-labels-idx1-ubyte.gz to data/MNIST/raw\n",
            "\n",
            "Downloading http://yann.lecun.com/exdb/mnist/t10k-images-idx3-ubyte.gz\n",
            "Failed to download (trying next):\n",
            "HTTP Error 403: Forbidden\n",
            "\n",
            "Downloading https://ossci-datasets.s3.amazonaws.com/mnist/t10k-images-idx3-ubyte.gz\n",
            "Downloading https://ossci-datasets.s3.amazonaws.com/mnist/t10k-images-idx3-ubyte.gz to data/MNIST/raw/t10k-images-idx3-ubyte.gz\n"
          ]
        },
        {
          "output_type": "stream",
          "name": "stderr",
          "text": [
            "100%|██████████| 1648877/1648877 [00:06<00:00, 241739.45it/s]\n"
          ]
        },
        {
          "output_type": "stream",
          "name": "stdout",
          "text": [
            "Extracting data/MNIST/raw/t10k-images-idx3-ubyte.gz to data/MNIST/raw\n",
            "\n",
            "Downloading http://yann.lecun.com/exdb/mnist/t10k-labels-idx1-ubyte.gz\n",
            "Failed to download (trying next):\n",
            "HTTP Error 403: Forbidden\n",
            "\n",
            "Downloading https://ossci-datasets.s3.amazonaws.com/mnist/t10k-labels-idx1-ubyte.gz\n",
            "Downloading https://ossci-datasets.s3.amazonaws.com/mnist/t10k-labels-idx1-ubyte.gz to data/MNIST/raw/t10k-labels-idx1-ubyte.gz\n"
          ]
        },
        {
          "output_type": "stream",
          "name": "stderr",
          "text": [
            "100%|██████████| 4542/4542 [00:00<00:00, 3144170.45it/s]"
          ]
        },
        {
          "output_type": "stream",
          "name": "stdout",
          "text": [
            "Extracting data/MNIST/raw/t10k-labels-idx1-ubyte.gz to data/MNIST/raw\n",
            "\n"
          ]
        },
        {
          "output_type": "stream",
          "name": "stderr",
          "text": [
            "\n"
          ]
        }
      ],
      "source": [
        "\n",
        "#Define training and testin dataset\n",
        "train_data = datasets.MNIST(\n",
        "    root = \"data\",\n",
        "    train = True,\n",
        "    download = True,\n",
        "    transform = ToTensor()\n",
        ")\n",
        "\n",
        "test_data = datasets.MNIST(\n",
        "    root = \"data\",\n",
        "    train = False,\n",
        "    download = True,\n",
        "    transform = ToTensor()\n",
        ")"
      ]
    },
    {
      "cell_type": "code",
      "execution_count": null,
      "metadata": {
        "colab": {
          "base_uri": "https://localhost:8080/"
        },
        "id": "uZAlE0lErd64",
        "outputId": "2cda2d17-1e73-4c6d-ac4a-3825a327a387"
      },
      "outputs": [
        {
          "output_type": "execute_result",
          "data": {
            "text/plain": [
              "Dataset MNIST\n",
              "    Number of datapoints: 60000\n",
              "    Root location: data\n",
              "    Split: Train\n",
              "    StandardTransform\n",
              "Transform: ToTensor()"
            ]
          },
          "metadata": {},
          "execution_count": 3
        }
      ],
      "source": [
        "train_data"
      ]
    },
    {
      "cell_type": "code",
      "execution_count": null,
      "metadata": {
        "colab": {
          "base_uri": "https://localhost:8080/"
        },
        "id": "b9IgtSFerifF",
        "outputId": "50b793a0-a1f4-41e2-e3d8-9165780854c6"
      },
      "outputs": [
        {
          "output_type": "execute_result",
          "data": {
            "text/plain": [
              "Dataset MNIST\n",
              "    Number of datapoints: 10000\n",
              "    Root location: data\n",
              "    Split: Test\n",
              "    StandardTransform\n",
              "Transform: ToTensor()"
            ]
          },
          "metadata": {},
          "execution_count": 4
        }
      ],
      "source": [
        "test_data"
      ]
    },
    {
      "cell_type": "code",
      "execution_count": null,
      "metadata": {
        "id": "ffUDsG4PrlMt"
      },
      "outputs": [],
      "source": [
        "from torch.utils.data import DataLoader\n",
        "\n",
        "# loaders dictionary to create DataLoaders to train and test the data\n",
        "loaders = {\n",
        "    'train': DataLoader(train_data,\n",
        "                        batch_size = 100,\n",
        "                        shuffle = True,\n",
        "                        num_workers = 1 ),\n",
        "    'test' : DataLoader(test_data,\n",
        "                        batch_size = 100,\n",
        "                        shuffle = True,\n",
        "                        num_workers = 1 )\n",
        "}"
      ]
    },
    {
      "cell_type": "code",
      "execution_count": null,
      "metadata": {
        "colab": {
          "base_uri": "https://localhost:8080/"
        },
        "id": "uQnZ1m8_syg-",
        "outputId": "542ceb0e-eb6a-42d5-e5ec-b4e4a2633576"
      },
      "outputs": [
        {
          "output_type": "execute_result",
          "data": {
            "text/plain": [
              "{'train': <torch.utils.data.dataloader.DataLoader at 0x7a2446ec2860>,\n",
              " 'test': <torch.utils.data.dataloader.DataLoader at 0x7a2446ec2050>}"
            ]
          },
          "metadata": {},
          "execution_count": 6
        }
      ],
      "source": [
        "loaders"
      ]
    },
    {
      "cell_type": "code",
      "execution_count": null,
      "metadata": {
        "id": "smOv81t-tlAK"
      },
      "outputs": [],
      "source": [
        "import torch.nn as nn           # NN layers and functions\n",
        "import torch.nn.functional as F # Activation Functions\n",
        "import torch.optim as optim     # Optimization module\n",
        "\n",
        "class CNN(nn.Module):\n",
        "  def __init__(self):\n",
        "    super(CNN, self).__init__()\n",
        "\n",
        "    self.conv1 = nn.Conv2d(1, 10, kernel_size=5) #Defines convolutional layer with (Input Chanel, Output Chanel, Kernel Seize)\n",
        "    self.conv2 = nn.Conv2d(10, 20, kernel_size=5)\n",
        "    self.conv2_drop = nn.Dropout2d() #Dropout layer to avoid overfitting\n",
        "    self.fc1 = nn.Linear(320, 50) #Defines fully connected layer with (Input, Output)\n",
        "    self.fc2 = nn.Linear(50, 10)\n",
        "\n",
        "  def forward(self, x):\n",
        "    x = F.relu(F.max_pool2d(self.conv1(x), 2)) # ReLu on 2x2 Down-sampling of feature maps\n",
        "    x = F.relu(F.max_pool2d(self.conv2_drop(self.conv2(x)), 2))\n",
        "    x = x.view(-1, 320) # Flatten the convolutional layer to input in fully connected layer\n",
        "    x = F.relu(self.fc1(x))\n",
        "    x = F.dropout(x, training=self.training)\n",
        "    x = self.fc2(x)\n",
        "    return F.softmax(x)\n"
      ]
    },
    {
      "cell_type": "code",
      "execution_count": null,
      "metadata": {
        "id": "gJgjO0IWuunF"
      },
      "outputs": [],
      "source": [
        "import torch\n",
        "\n",
        "device = torch.device('cuda' if torch.cuda.is_available() else 'cpu')\n",
        "\n",
        "model = CNN().to(device)\n",
        "\n",
        "optimizer = optim.Adam(model.parameters(), lr = 0.001) # Initializes Adam optimizer with parameters and learning rate\n",
        "\n",
        "loss_fn = nn.CrossEntropyLoss() # Initializes CrossEntropyLoss for classification\n",
        "\n",
        "def train(epoch):\n",
        "  model.train()\n",
        "\n",
        "  for batch_idx, (data, target) in enumerate(loaders['train']):\n",
        "    data, target = data.to(device), target.to(device)\n",
        "\n",
        "    optimizer.zero_grad()  # Clear gradients from prev iter\n",
        "    output = model(data)  # Forward pass\n",
        "    loss = loss_fn(output, target)  # Calculate loss\n",
        "    loss.backward()  # Backpropagation using the loss\n",
        "    optimizer.step()  # Update weights\n",
        "\n",
        "    if batch_idx % 25 == 0:\n",
        "      print(f\"Train Epoch: {epoch} [{batch_idx * len(data)}/{len(loaders['train'].dataset)} ({100.*batch_idx / len(loaders['train']):.0f}%)]\\t{loss.item():.6f}\")\n",
        "\n",
        "def test():\n",
        "  model.eval()\n",
        "\n",
        "  test_loss = 0\n",
        "  correct = 0\n",
        "\n",
        "  with torch.no_grad():\n",
        "    for data, target in loaders['test']:\n",
        "      data, target = data.to(device), target.to(device)\n",
        "\n",
        "      output = model(data)\n",
        "      test_loss += loss_fn(output, target).item() # Total sum of losses\n",
        "      pred = output.argmax(dim=1, keepdim=True) # Get predicted value\n",
        "      correct += pred.eq(target.view_as(pred)).sum().item() # Count correct predictions\n",
        "\n",
        "  test_loss /= len(loaders['test'].dataset)  # Average test loss\n",
        "  print(f\"\\nTest set: Average Loss: {test_loss:.4f},  Accuracy {correct}/{len(loaders['test'].dataset)} ({100.*correct / len(loaders['test'].dataset):.0f}%)\\n\")\n"
      ]
    },
    {
      "cell_type": "code",
      "execution_count": null,
      "metadata": {
        "colab": {
          "base_uri": "https://localhost:8080/"
        },
        "id": "PVc19F4A3od-",
        "outputId": "87a5575f-5982-453e-9f9f-9cc9f56a019b"
      },
      "outputs": [
        {
          "output_type": "stream",
          "name": "stderr",
          "text": [
            "<ipython-input-7-9781effad0d6>:22: UserWarning: Implicit dimension choice for softmax has been deprecated. Change the call to include dim=X as an argument.\n",
            "  return F.softmax(x)\n"
          ]
        },
        {
          "output_type": "stream",
          "name": "stdout",
          "text": [
            "Train Epoch: 1 [0/60000 (0%)]\t2.304666\n",
            "Train Epoch: 1 [2500/60000 (4%)]\t2.273057\n",
            "Train Epoch: 1 [5000/60000 (8%)]\t2.072690\n",
            "Train Epoch: 1 [7500/60000 (12%)]\t1.898993\n",
            "Train Epoch: 1 [10000/60000 (17%)]\t1.825292\n",
            "Train Epoch: 1 [12500/60000 (21%)]\t1.803412\n",
            "Train Epoch: 1 [15000/60000 (25%)]\t1.699899\n",
            "Train Epoch: 1 [17500/60000 (29%)]\t1.654864\n",
            "Train Epoch: 1 [20000/60000 (33%)]\t1.685600\n",
            "Train Epoch: 1 [22500/60000 (38%)]\t1.656594\n",
            "Train Epoch: 1 [25000/60000 (42%)]\t1.709967\n",
            "Train Epoch: 1 [27500/60000 (46%)]\t1.630583\n",
            "Train Epoch: 1 [30000/60000 (50%)]\t1.670580\n",
            "Train Epoch: 1 [32500/60000 (54%)]\t1.637813\n",
            "Train Epoch: 1 [35000/60000 (58%)]\t1.704246\n",
            "Train Epoch: 1 [37500/60000 (62%)]\t1.625136\n",
            "Train Epoch: 1 [40000/60000 (67%)]\t1.617599\n",
            "Train Epoch: 1 [42500/60000 (71%)]\t1.620477\n",
            "Train Epoch: 1 [45000/60000 (75%)]\t1.644232\n",
            "Train Epoch: 1 [47500/60000 (79%)]\t1.639624\n",
            "Train Epoch: 1 [50000/60000 (83%)]\t1.720173\n",
            "Train Epoch: 1 [52500/60000 (88%)]\t1.620804\n",
            "Train Epoch: 1 [55000/60000 (92%)]\t1.597402\n",
            "Train Epoch: 1 [57500/60000 (96%)]\t1.569000\n",
            "\n",
            "Test set: Average Loss: 0.0153,  Accuracy 9301/10000 (93%)\n",
            "\n",
            "Train Epoch: 2 [0/60000 (0%)]\t1.599013\n",
            "Train Epoch: 2 [2500/60000 (4%)]\t1.625619\n",
            "Train Epoch: 2 [5000/60000 (8%)]\t1.613810\n",
            "Train Epoch: 2 [7500/60000 (12%)]\t1.627778\n",
            "Train Epoch: 2 [10000/60000 (17%)]\t1.599524\n",
            "Train Epoch: 2 [12500/60000 (21%)]\t1.566936\n",
            "Train Epoch: 2 [15000/60000 (25%)]\t1.584227\n",
            "Train Epoch: 2 [17500/60000 (29%)]\t1.596876\n",
            "Train Epoch: 2 [20000/60000 (33%)]\t1.562487\n",
            "Train Epoch: 2 [22500/60000 (38%)]\t1.576593\n",
            "Train Epoch: 2 [25000/60000 (42%)]\t1.575556\n",
            "Train Epoch: 2 [27500/60000 (46%)]\t1.609364\n",
            "Train Epoch: 2 [30000/60000 (50%)]\t1.594507\n",
            "Train Epoch: 2 [32500/60000 (54%)]\t1.574991\n",
            "Train Epoch: 2 [35000/60000 (58%)]\t1.504095\n",
            "Train Epoch: 2 [37500/60000 (62%)]\t1.569783\n",
            "Train Epoch: 2 [40000/60000 (67%)]\t1.569964\n",
            "Train Epoch: 2 [42500/60000 (71%)]\t1.588716\n",
            "Train Epoch: 2 [45000/60000 (75%)]\t1.573902\n",
            "Train Epoch: 2 [47500/60000 (79%)]\t1.605946\n",
            "Train Epoch: 2 [50000/60000 (83%)]\t1.587433\n",
            "Train Epoch: 2 [52500/60000 (88%)]\t1.531643\n",
            "Train Epoch: 2 [55000/60000 (92%)]\t1.565693\n",
            "Train Epoch: 2 [57500/60000 (96%)]\t1.580536\n",
            "\n",
            "Test set: Average Loss: 0.0151,  Accuracy 9495/10000 (95%)\n",
            "\n",
            "Train Epoch: 3 [0/60000 (0%)]\t1.564973\n",
            "Train Epoch: 3 [2500/60000 (4%)]\t1.607608\n",
            "Train Epoch: 3 [5000/60000 (8%)]\t1.523426\n",
            "Train Epoch: 3 [7500/60000 (12%)]\t1.577994\n",
            "Train Epoch: 3 [10000/60000 (17%)]\t1.511425\n",
            "Train Epoch: 3 [12500/60000 (21%)]\t1.568249\n",
            "Train Epoch: 3 [15000/60000 (25%)]\t1.627989\n",
            "Train Epoch: 3 [17500/60000 (29%)]\t1.565803\n",
            "Train Epoch: 3 [20000/60000 (33%)]\t1.512819\n",
            "Train Epoch: 3 [22500/60000 (38%)]\t1.539413\n",
            "Train Epoch: 3 [25000/60000 (42%)]\t1.585528\n",
            "Train Epoch: 3 [27500/60000 (46%)]\t1.576210\n",
            "Train Epoch: 3 [30000/60000 (50%)]\t1.569747\n",
            "Train Epoch: 3 [32500/60000 (54%)]\t1.549058\n",
            "Train Epoch: 3 [35000/60000 (58%)]\t1.552432\n",
            "Train Epoch: 3 [37500/60000 (62%)]\t1.605714\n",
            "Train Epoch: 3 [40000/60000 (67%)]\t1.526181\n",
            "Train Epoch: 3 [42500/60000 (71%)]\t1.542577\n",
            "Train Epoch: 3 [45000/60000 (75%)]\t1.552111\n",
            "Train Epoch: 3 [47500/60000 (79%)]\t1.555398\n",
            "Train Epoch: 3 [50000/60000 (83%)]\t1.538623\n",
            "Train Epoch: 3 [52500/60000 (88%)]\t1.553855\n",
            "Train Epoch: 3 [55000/60000 (92%)]\t1.547528\n",
            "Train Epoch: 3 [57500/60000 (96%)]\t1.581539\n",
            "\n",
            "Test set: Average Loss: 0.0150,  Accuracy 9592/10000 (96%)\n",
            "\n",
            "Train Epoch: 4 [0/60000 (0%)]\t1.591677\n",
            "Train Epoch: 4 [2500/60000 (4%)]\t1.599666\n",
            "Train Epoch: 4 [5000/60000 (8%)]\t1.556200\n",
            "Train Epoch: 4 [7500/60000 (12%)]\t1.530872\n",
            "Train Epoch: 4 [10000/60000 (17%)]\t1.559896\n",
            "Train Epoch: 4 [12500/60000 (21%)]\t1.602857\n",
            "Train Epoch: 4 [15000/60000 (25%)]\t1.521750\n",
            "Train Epoch: 4 [17500/60000 (29%)]\t1.557417\n",
            "Train Epoch: 4 [20000/60000 (33%)]\t1.567836\n",
            "Train Epoch: 4 [22500/60000 (38%)]\t1.544041\n",
            "Train Epoch: 4 [25000/60000 (42%)]\t1.535035\n",
            "Train Epoch: 4 [27500/60000 (46%)]\t1.548502\n",
            "Train Epoch: 4 [30000/60000 (50%)]\t1.525097\n",
            "Train Epoch: 4 [32500/60000 (54%)]\t1.523994\n",
            "Train Epoch: 4 [35000/60000 (58%)]\t1.610490\n",
            "Train Epoch: 4 [37500/60000 (62%)]\t1.549597\n",
            "Train Epoch: 4 [40000/60000 (67%)]\t1.526305\n",
            "Train Epoch: 4 [42500/60000 (71%)]\t1.590227\n",
            "Train Epoch: 4 [45000/60000 (75%)]\t1.555622\n",
            "Train Epoch: 4 [47500/60000 (79%)]\t1.515255\n",
            "Train Epoch: 4 [50000/60000 (83%)]\t1.556169\n",
            "Train Epoch: 4 [52500/60000 (88%)]\t1.533323\n",
            "Train Epoch: 4 [55000/60000 (92%)]\t1.576504\n",
            "Train Epoch: 4 [57500/60000 (96%)]\t1.546660\n",
            "\n",
            "Test set: Average Loss: 0.0150,  Accuracy 9639/10000 (96%)\n",
            "\n",
            "Train Epoch: 5 [0/60000 (0%)]\t1.537080\n",
            "Train Epoch: 5 [2500/60000 (4%)]\t1.553909\n",
            "Train Epoch: 5 [5000/60000 (8%)]\t1.535858\n",
            "Train Epoch: 5 [7500/60000 (12%)]\t1.547729\n",
            "Train Epoch: 5 [10000/60000 (17%)]\t1.587183\n",
            "Train Epoch: 5 [12500/60000 (21%)]\t1.572532\n",
            "Train Epoch: 5 [15000/60000 (25%)]\t1.572935\n",
            "Train Epoch: 5 [17500/60000 (29%)]\t1.524364\n",
            "Train Epoch: 5 [20000/60000 (33%)]\t1.565941\n",
            "Train Epoch: 5 [22500/60000 (38%)]\t1.560304\n",
            "Train Epoch: 5 [25000/60000 (42%)]\t1.538376\n",
            "Train Epoch: 5 [27500/60000 (46%)]\t1.562838\n",
            "Train Epoch: 5 [30000/60000 (50%)]\t1.533908\n",
            "Train Epoch: 5 [32500/60000 (54%)]\t1.519452\n",
            "Train Epoch: 5 [35000/60000 (58%)]\t1.530792\n",
            "Train Epoch: 5 [37500/60000 (62%)]\t1.559581\n",
            "Train Epoch: 5 [40000/60000 (67%)]\t1.529068\n",
            "Train Epoch: 5 [42500/60000 (71%)]\t1.528833\n",
            "Train Epoch: 5 [45000/60000 (75%)]\t1.502390\n",
            "Train Epoch: 5 [47500/60000 (79%)]\t1.489673\n",
            "Train Epoch: 5 [50000/60000 (83%)]\t1.536169\n",
            "Train Epoch: 5 [52500/60000 (88%)]\t1.548448\n",
            "Train Epoch: 5 [55000/60000 (92%)]\t1.521533\n",
            "Train Epoch: 5 [57500/60000 (96%)]\t1.562349\n",
            "\n",
            "Test set: Average Loss: 0.0149,  Accuracy 9688/10000 (97%)\n",
            "\n",
            "Train Epoch: 6 [0/60000 (0%)]\t1.535791\n",
            "Train Epoch: 6 [2500/60000 (4%)]\t1.521281\n",
            "Train Epoch: 6 [5000/60000 (8%)]\t1.518181\n",
            "Train Epoch: 6 [7500/60000 (12%)]\t1.554261\n",
            "Train Epoch: 6 [10000/60000 (17%)]\t1.539507\n",
            "Train Epoch: 6 [12500/60000 (21%)]\t1.537322\n",
            "Train Epoch: 6 [15000/60000 (25%)]\t1.533694\n",
            "Train Epoch: 6 [17500/60000 (29%)]\t1.526743\n",
            "Train Epoch: 6 [20000/60000 (33%)]\t1.541063\n",
            "Train Epoch: 6 [22500/60000 (38%)]\t1.538635\n",
            "Train Epoch: 6 [25000/60000 (42%)]\t1.566406\n",
            "Train Epoch: 6 [27500/60000 (46%)]\t1.503328\n",
            "Train Epoch: 6 [30000/60000 (50%)]\t1.568505\n",
            "Train Epoch: 6 [32500/60000 (54%)]\t1.549480\n",
            "Train Epoch: 6 [35000/60000 (58%)]\t1.591657\n",
            "Train Epoch: 6 [37500/60000 (62%)]\t1.546864\n",
            "Train Epoch: 6 [40000/60000 (67%)]\t1.530067\n",
            "Train Epoch: 6 [42500/60000 (71%)]\t1.538541\n",
            "Train Epoch: 6 [45000/60000 (75%)]\t1.542241\n",
            "Train Epoch: 6 [47500/60000 (79%)]\t1.519144\n",
            "Train Epoch: 6 [50000/60000 (83%)]\t1.511296\n",
            "Train Epoch: 6 [52500/60000 (88%)]\t1.522297\n",
            "Train Epoch: 6 [55000/60000 (92%)]\t1.522375\n",
            "Train Epoch: 6 [57500/60000 (96%)]\t1.509710\n",
            "\n",
            "Test set: Average Loss: 0.0149,  Accuracy 9710/10000 (97%)\n",
            "\n",
            "Train Epoch: 7 [0/60000 (0%)]\t1.537565\n",
            "Train Epoch: 7 [2500/60000 (4%)]\t1.523432\n",
            "Train Epoch: 7 [5000/60000 (8%)]\t1.509620\n",
            "Train Epoch: 7 [7500/60000 (12%)]\t1.517455\n",
            "Train Epoch: 7 [10000/60000 (17%)]\t1.519001\n",
            "Train Epoch: 7 [12500/60000 (21%)]\t1.521309\n",
            "Train Epoch: 7 [15000/60000 (25%)]\t1.528229\n",
            "Train Epoch: 7 [17500/60000 (29%)]\t1.507134\n",
            "Train Epoch: 7 [20000/60000 (33%)]\t1.519373\n",
            "Train Epoch: 7 [22500/60000 (38%)]\t1.520777\n",
            "Train Epoch: 7 [25000/60000 (42%)]\t1.545084\n",
            "Train Epoch: 7 [27500/60000 (46%)]\t1.510545\n",
            "Train Epoch: 7 [30000/60000 (50%)]\t1.535135\n",
            "Train Epoch: 7 [32500/60000 (54%)]\t1.526233\n",
            "Train Epoch: 7 [35000/60000 (58%)]\t1.501876\n",
            "Train Epoch: 7 [37500/60000 (62%)]\t1.506310\n",
            "Train Epoch: 7 [40000/60000 (67%)]\t1.600409\n",
            "Train Epoch: 7 [42500/60000 (71%)]\t1.518648\n",
            "Train Epoch: 7 [45000/60000 (75%)]\t1.523552\n",
            "Train Epoch: 7 [47500/60000 (79%)]\t1.577720\n",
            "Train Epoch: 7 [50000/60000 (83%)]\t1.563458\n",
            "Train Epoch: 7 [52500/60000 (88%)]\t1.561743\n",
            "Train Epoch: 7 [55000/60000 (92%)]\t1.518640\n",
            "Train Epoch: 7 [57500/60000 (96%)]\t1.532739\n",
            "\n",
            "Test set: Average Loss: 0.0149,  Accuracy 9720/10000 (97%)\n",
            "\n",
            "Train Epoch: 8 [0/60000 (0%)]\t1.516691\n",
            "Train Epoch: 8 [2500/60000 (4%)]\t1.524512\n",
            "Train Epoch: 8 [5000/60000 (8%)]\t1.477043\n",
            "Train Epoch: 8 [7500/60000 (12%)]\t1.502957\n",
            "Train Epoch: 8 [10000/60000 (17%)]\t1.543391\n",
            "Train Epoch: 8 [12500/60000 (21%)]\t1.553190\n",
            "Train Epoch: 8 [15000/60000 (25%)]\t1.536309\n",
            "Train Epoch: 8 [17500/60000 (29%)]\t1.511611\n",
            "Train Epoch: 8 [20000/60000 (33%)]\t1.522071\n",
            "Train Epoch: 8 [22500/60000 (38%)]\t1.555681\n",
            "Train Epoch: 8 [25000/60000 (42%)]\t1.514061\n",
            "Train Epoch: 8 [27500/60000 (46%)]\t1.487145\n",
            "Train Epoch: 8 [30000/60000 (50%)]\t1.502566\n",
            "Train Epoch: 8 [32500/60000 (54%)]\t1.537545\n",
            "Train Epoch: 8 [35000/60000 (58%)]\t1.503190\n",
            "Train Epoch: 8 [37500/60000 (62%)]\t1.527743\n",
            "Train Epoch: 8 [40000/60000 (67%)]\t1.549184\n",
            "Train Epoch: 8 [42500/60000 (71%)]\t1.493674\n",
            "Train Epoch: 8 [45000/60000 (75%)]\t1.545802\n",
            "Train Epoch: 8 [47500/60000 (79%)]\t1.527234\n",
            "Train Epoch: 8 [50000/60000 (83%)]\t1.525084\n",
            "Train Epoch: 8 [52500/60000 (88%)]\t1.505153\n",
            "Train Epoch: 8 [55000/60000 (92%)]\t1.541448\n",
            "Train Epoch: 8 [57500/60000 (96%)]\t1.573539\n",
            "\n",
            "Test set: Average Loss: 0.0149,  Accuracy 9729/10000 (97%)\n",
            "\n",
            "Train Epoch: 9 [0/60000 (0%)]\t1.523887\n",
            "Train Epoch: 9 [2500/60000 (4%)]\t1.520709\n",
            "Train Epoch: 9 [5000/60000 (8%)]\t1.488138\n",
            "Train Epoch: 9 [7500/60000 (12%)]\t1.536823\n",
            "Train Epoch: 9 [10000/60000 (17%)]\t1.514495\n",
            "Train Epoch: 9 [12500/60000 (21%)]\t1.584136\n",
            "Train Epoch: 9 [15000/60000 (25%)]\t1.534789\n",
            "Train Epoch: 9 [17500/60000 (29%)]\t1.518061\n",
            "Train Epoch: 9 [20000/60000 (33%)]\t1.518076\n",
            "Train Epoch: 9 [22500/60000 (38%)]\t1.532719\n",
            "Train Epoch: 9 [25000/60000 (42%)]\t1.514148\n",
            "Train Epoch: 9 [27500/60000 (46%)]\t1.557626\n",
            "Train Epoch: 9 [30000/60000 (50%)]\t1.520805\n",
            "Train Epoch: 9 [32500/60000 (54%)]\t1.551416\n",
            "Train Epoch: 9 [35000/60000 (58%)]\t1.495070\n",
            "Train Epoch: 9 [37500/60000 (62%)]\t1.535996\n",
            "Train Epoch: 9 [40000/60000 (67%)]\t1.505625\n",
            "Train Epoch: 9 [42500/60000 (71%)]\t1.521969\n",
            "Train Epoch: 9 [45000/60000 (75%)]\t1.539413\n",
            "Train Epoch: 9 [47500/60000 (79%)]\t1.571399\n",
            "Train Epoch: 9 [50000/60000 (83%)]\t1.530133\n",
            "Train Epoch: 9 [52500/60000 (88%)]\t1.506769\n",
            "Train Epoch: 9 [55000/60000 (92%)]\t1.575721\n",
            "Train Epoch: 9 [57500/60000 (96%)]\t1.511588\n",
            "\n",
            "Test set: Average Loss: 0.0149,  Accuracy 9735/10000 (97%)\n",
            "\n",
            "Train Epoch: 10 [0/60000 (0%)]\t1.496869\n",
            "Train Epoch: 10 [2500/60000 (4%)]\t1.536975\n",
            "Train Epoch: 10 [5000/60000 (8%)]\t1.503735\n",
            "Train Epoch: 10 [7500/60000 (12%)]\t1.522518\n",
            "Train Epoch: 10 [10000/60000 (17%)]\t1.535806\n",
            "Train Epoch: 10 [12500/60000 (21%)]\t1.541240\n",
            "Train Epoch: 10 [15000/60000 (25%)]\t1.515791\n",
            "Train Epoch: 10 [17500/60000 (29%)]\t1.485546\n",
            "Train Epoch: 10 [20000/60000 (33%)]\t1.516829\n",
            "Train Epoch: 10 [22500/60000 (38%)]\t1.519388\n",
            "Train Epoch: 10 [25000/60000 (42%)]\t1.496560\n",
            "Train Epoch: 10 [27500/60000 (46%)]\t1.578237\n",
            "Train Epoch: 10 [30000/60000 (50%)]\t1.499802\n",
            "Train Epoch: 10 [32500/60000 (54%)]\t1.523313\n",
            "Train Epoch: 10 [35000/60000 (58%)]\t1.510160\n",
            "Train Epoch: 10 [37500/60000 (62%)]\t1.538585\n",
            "Train Epoch: 10 [40000/60000 (67%)]\t1.497692\n",
            "Train Epoch: 10 [42500/60000 (71%)]\t1.518774\n",
            "Train Epoch: 10 [45000/60000 (75%)]\t1.516963\n",
            "Train Epoch: 10 [47500/60000 (79%)]\t1.476584\n",
            "Train Epoch: 10 [50000/60000 (83%)]\t1.508793\n",
            "Train Epoch: 10 [52500/60000 (88%)]\t1.520504\n",
            "Train Epoch: 10 [55000/60000 (92%)]\t1.507852\n",
            "Train Epoch: 10 [57500/60000 (96%)]\t1.520359\n",
            "\n",
            "Test set: Average Loss: 0.0149,  Accuracy 9736/10000 (97%)\n",
            "\n"
          ]
        }
      ],
      "source": [
        "for epoch in range(1, 11):\n",
        "  train(epoch)\n",
        "  test()"
      ]
    },
    {
      "cell_type": "code",
      "execution_count": null,
      "metadata": {
        "colab": {
          "base_uri": "https://localhost:8080/",
          "height": 482
        },
        "id": "_PrhKB5X4fYq",
        "outputId": "37dbfda0-f096-4981-9482-4f41c89175f1"
      },
      "outputs": [
        {
          "output_type": "stream",
          "name": "stdout",
          "text": [
            "Prediction: 3\n"
          ]
        },
        {
          "output_type": "stream",
          "name": "stderr",
          "text": [
            "<ipython-input-7-9781effad0d6>:22: UserWarning: Implicit dimension choice for softmax has been deprecated. Change the call to include dim=X as an argument.\n",
            "  return F.softmax(x)\n"
          ]
        },
        {
          "output_type": "display_data",
          "data": {
            "text/plain": [
              "<Figure size 640x480 with 1 Axes>"
            ],
            "image/png": "[encoded data removed]"
          },
          "metadata": {}
        }
      ],
      "source": [
        "import matplotlib.pyplot as plt\n",
        "\n",
        "model.eval()\n",
        "\n",
        "data, target = test_data[528]\n",
        "\n",
        "data = data.unsqueeze(0).to(device)\n",
        "\n",
        "output = model(data)\n",
        "\n",
        "prediction = output.argmax(dim=1, keepdim=True).item()\n",
        "\n",
        "print(f\"Prediction: {prediction}\")\n",
        "\n",
        "image = data.squeeze(0).squeeze(0).cpu().numpy()\n",
        "\n",
        "plt.imshow(image, cmap='gray')\n",
        "plt.show()\n"
      ]
    },
    {
      "cell_type": "code",
      "execution_count": null,
      "metadata": {
        "id": "Th-Blq_W5Qkm"
      },
      "outputs": [],
      "source": []
    }
  ],
  "metadata": {
    "accelerator": "GPU",
    "colab": {
      "gpuType": "T4",
      "provenance": [],
      "include_colab_link": true
    },
    "kernelspec": {
      "display_name": "Python 3",
      "name": "python3"
    },
    "language_info": {
      "name": "python"
    }
  },
  "nbformat": 4,
  "nbformat_minor": 0
}